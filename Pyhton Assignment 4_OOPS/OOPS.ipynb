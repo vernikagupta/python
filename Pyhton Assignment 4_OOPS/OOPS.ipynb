{
 "cells": [
  {
   "cell_type": "markdown",
   "metadata": {},
   "source": [
    "# Write a Python Program(with class concepts) to find the area of the triangle using the below formula. \n",
    " \n",
    "area = (s*(s-a)*(s-b)*(s-c)) ** 0.5 \n",
    " \n",
    "Function to take the length of the sides of triangle from user should be defined in the parent class and function to calculate the area should be defined in subclass. "
   ]
  },
  {
   "cell_type": "code",
   "execution_count": 36,
   "metadata": {},
   "outputs": [],
   "source": [
    "class Sidelength:\n",
    "    def __init__(self,a,b,c):\n",
    "        self.a = a\n",
    "        self.b = b\n",
    "        self.c = c\n",
    "        \n",
    "    def __str__(self):\n",
    "        return 'Sides of triangle are {0} {1} and {2}'.format(self.a, self.b, self.c)\n",
    "        "
   ]
  },
  {
   "cell_type": "code",
   "execution_count": 35,
   "metadata": {},
   "outputs": [],
   "source": [
    "class Area_triangle(Sidelength):\n",
    "    def __init__(self, *args):\n",
    "        super().__init__(*args)\n",
    "    \n",
    "    def area(self):\n",
    "        s = (self.a + self.b +self.c)/2\n",
    "        area = (s*(s-self.a)*(s-self.b)*(s-self.c))**0.5\n",
    "        return area"
   ]
  },
  {
   "cell_type": "code",
   "execution_count": 25,
   "metadata": {},
   "outputs": [],
   "source": [
    "triangle = Area_triangle(10,15,20)\n",
    "\n",
    "triangle.area()"
   ]
  },
  {
   "cell_type": "markdown",
   "metadata": {},
   "source": [
    "**Write a function filter_long_words() that takes a list of words and an integer n and returns the list of words that are longer than n.**"
   ]
  },
  {
   "cell_type": "code",
   "execution_count": 39,
   "metadata": {},
   "outputs": [],
   "source": [
    "def filter_long_words(n, words):\n",
    "    return [word for word in words if len(word)>n]\n",
    "\n",
    "output = filter_long_words(2,['vernika','Gupta','1'])\n",
    "\n",
    "output"
   ]
  },
  {
   "cell_type": "markdown",
   "metadata": {},
   "source": [
    "**Write a Python program using function concept that maps list of words into a list of integers representing the lengths of the corresponding words.** \n",
    " \n",
    "Hint: If a list [ ab,cde,erty] is passed on to the python function output should come as [2,3,4] \n",
    " \n",
    "Here 2,3 and 4 are the lengths of the words in the list.\n",
    " \n",
    " "
   ]
  },
  {
   "cell_type": "code",
   "execution_count": 44,
   "metadata": {},
   "outputs": [
    {
     "data": {
      "text/plain": [
       "[7, 5]"
      ]
     },
     "execution_count": 44,
     "metadata": {},
     "output_type": "execute_result"
    }
   ],
   "source": [
    "def words_len(words):\n",
    "    return [len(word) for word in words]\n",
    "\n",
    "output = words_len(['vernika','Gupta'])\n",
    "output"
   ]
  },
  {
   "cell_type": "markdown",
   "metadata": {},
   "source": [
    "**Write a Python function which takes a character (i.e. a string of length 1) and returns True if it is a vowel, False otherwise.** "
   ]
  },
  {
   "cell_type": "code",
   "execution_count": 45,
   "metadata": {},
   "outputs": [
    {
     "name": "stdout",
     "output_type": "stream",
     "text": [
      "True\n",
      "False\n"
     ]
    }
   ],
   "source": [
    "def character_len(charac):\n",
    "    if charac in ['a','e','i','o','u']:\n",
    "        return True\n",
    "    else:\n",
    "        return False\n",
    "    \n",
    "print(character_len('a'))\n",
    "print(character_len('v'))"
   ]
  },
  {
   "cell_type": "markdown",
   "metadata": {},
   "source": [
    "**Multiple Inheritence**"
   ]
  },
  {
   "cell_type": "code",
   "execution_count": 86,
   "metadata": {},
   "outputs": [],
   "source": [
    "# Base class CompanyMember\n",
    "class CompanyMember:\n",
    "    def __init__(self, name, designation):\n",
    "        self.name = name\n",
    "        self.designation = designation\n",
    "                \n",
    "    def tell(self):\n",
    "        print(\"Name:\", self.name,\"\\nDesignation:\", self.designation)\n",
    "\n",
    "member = CompanyMember(\"Vernika\",\"Data Scientist\")"
   ]
  },
  {
   "cell_type": "code",
   "execution_count": 87,
   "metadata": {},
   "outputs": [],
   "source": [
    "# first class derived from CompanyMember\n",
    "class Employee(CompanyMember):\n",
    "    def __init__(self, department, experience, *args):\n",
    "        super().__init__(*args)\n",
    "        self.department = department\n",
    "        self.experience = experience\n",
    "    \n",
    "    def tell(self):\n",
    "        print(\"Department: \",self.department,\"\\nExperience:\", self.experience)\n",
    "        #super().tell()   # super is used if we want to call method in each class"
   ]
  },
  {
   "cell_type": "code",
   "execution_count": 88,
   "metadata": {},
   "outputs": [],
   "source": [
    "# a class always appears before its ancestor (\"monotonicity\")\n",
    "# have to add Employee class before CompanyMember or just skip companyMember as employee already inherits from \n",
    "# CompanyMember\n",
    "# Also pass the arguments in this order(Employee, CompnayMember)\n",
    "\n",
    "# Class derived from Employee and CompanyMember\n",
    "class Salary(Employee,CompanyMember):\n",
    "    def __init__(self, *args):\n",
    "        super().__init__(*args)\n",
    "        \n",
    "    def salary_calculation(self):\n",
    "        salary = 10000 * experience \n",
    "        return salary"
   ]
  },
  {
   "cell_type": "code",
   "execution_count": 89,
   "metadata": {},
   "outputs": [],
   "source": [
    "s = Salary('data science',4,\"Vernika\",\"Data Scientist\")"
   ]
  },
  {
   "cell_type": "code",
   "execution_count": 90,
   "metadata": {},
   "outputs": [
    {
     "name": "stdout",
     "output_type": "stream",
     "text": [
      "Name: Vernika \n",
      "Designation: Data Scientist\n"
     ]
    }
   ],
   "source": [
    "CompanyMember.tell(s)  # method to call from any class "
   ]
  },
  {
   "cell_type": "code",
   "execution_count": 93,
   "metadata": {},
   "outputs": [
    {
     "name": "stdout",
     "output_type": "stream",
     "text": [
      "Department:  data science \n",
      "Experience: 4\n"
     ]
    }
   ],
   "source": [
    "s.tell()  "
   ]
  },
  {
   "cell_type": "markdown",
   "metadata": {},
   "source": [
    "Super() is generally used with the __init__ function when the instances are initialized. The super function comes to a conclusion, on which method to call with the help of the method resolution order (MRO).\n",
    "\n",
    "**Method resolution order**\n",
    "In Python, every class whether built-in or user-defined is derived from the object class and all the objects are instances of the class object. Hence, object class is the base class for all the other classes.\n",
    "\n",
    "**In the case of multiple inheritance a given attribute is first searched in the current class if it’s not found then it’s searched in the parent classes. The parent classes are searched in a depth-first, left-right fashion and each class is searched once.**"
   ]
  },
  {
   "cell_type": "code",
   "execution_count": 95,
   "metadata": {},
   "outputs": [
    {
     "data": {
      "text/plain": [
       "[__main__.Salary, __main__.Employee, __main__.CompanyMember, object]"
      ]
     },
     "execution_count": 95,
     "metadata": {},
     "output_type": "execute_result"
    }
   ],
   "source": [
    "# Use the mro() method, it returns a list\n",
    "Salary.mro()"
   ]
  },
  {
   "cell_type": "code",
   "execution_count": 97,
   "metadata": {},
   "outputs": [
    {
     "data": {
      "text/plain": [
       "(__main__.Salary, __main__.Employee, __main__.CompanyMember, object)"
      ]
     },
     "execution_count": 97,
     "metadata": {},
     "output_type": "execute_result"
    }
   ],
   "source": [
    "# Use the _mro_ attribute, it returns a tuple\n",
    "Salary.__mro__"
   ]
  },
  {
   "cell_type": "markdown",
   "metadata": {},
   "source": [
    "<a href='https://www.geeksforgeeks.org/multiple-inheritance-in-python/'>Link to learn Multiple Inheritance</a>"
   ]
  }
 ],
 "metadata": {
  "kernelspec": {
   "display_name": "Python 3",
   "language": "python",
   "name": "python3"
  },
  "language_info": {
   "codemirror_mode": {
    "name": "ipython",
    "version": 3
   },
   "file_extension": ".py",
   "mimetype": "text/x-python",
   "name": "python",
   "nbconvert_exporter": "python",
   "pygments_lexer": "ipython3",
   "version": "3.6.4"
  }
 },
 "nbformat": 4,
 "nbformat_minor": 4
}
